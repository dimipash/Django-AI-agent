{
 "cells": [
  {
   "cell_type": "code",
   "execution_count": null,
   "id": "1172caf7",
   "metadata": {},
   "outputs": [],
   "source": [
    "import setup  # notebooks/setup.py\n",
    "setup.init()"
   ]
  },
  {
   "cell_type": "code",
   "execution_count": null,
   "id": "9cbfb31f",
   "metadata": {},
   "outputs": [],
   "source": [
    "from tmdb import client as tmdb_client"
   ]
  },
  {
   "cell_type": "code",
   "execution_count": 8,
   "id": "61e9401d",
   "metadata": {},
   "outputs": [],
   "source": [
    "response = tmdb_client.search_movie(\"Terminator 2\")\n",
    "results = response.get(\"results\")\n",
    "movie_id = results[0].get(\"id\")"
   ]
  },
  {
   "cell_type": "code",
   "execution_count": 9,
   "id": "f4ac90cc",
   "metadata": {},
   "outputs": [
    {
     "data": {
      "text/plain": [
       "{'adult': False,\n",
       " 'backdrop_path': '/vINgGecnz95iDL6fjQMARDsocgG.jpg',\n",
       " 'belongs_to_collection': {'id': 528,\n",
       "  'name': 'The Terminator Collection',\n",
       "  'poster_path': '/kpZxdNsAV7qTdTLwKM5NLqa7GEo.jpg',\n",
       "  'backdrop_path': '/sCnBEw2Yu6foEjs4Xb4eMddYHRo.jpg'},\n",
       " 'budget': 102000000,\n",
       " 'genres': [{'id': 28, 'name': 'Action'},\n",
       "  {'id': 53, 'name': 'Thriller'},\n",
       "  {'id': 878, 'name': 'Science Fiction'}],\n",
       " 'homepage': 'https://www.lionsgate.com/movies/terminator-2-judgment-day',\n",
       " 'id': 280,\n",
       " 'imdb_id': 'tt0103064',\n",
       " 'origin_country': ['US'],\n",
       " 'original_language': 'en',\n",
       " 'original_title': 'Terminator 2: Judgment Day',\n",
       " 'overview': 'Set ten years after the events of the original, James Cameron’s classic sci-fi action flick tells the story of a second attempt to get rid of rebellion leader John Connor, this time targeting the boy himself. However, the rebellion has sent a reprogrammed terminator to protect Connor.',\n",
       " 'popularity': 12.8068,\n",
       " 'poster_path': '/5M0j0B18abtBI5gi2RhfjjurTqb.jpg',\n",
       " 'production_companies': [{'id': 275,\n",
       "   'logo_path': '/oLnOYtAjF0z9CrqJqWptFkhHOQG.png',\n",
       "   'name': 'Carolco Pictures',\n",
       "   'origin_country': 'US'},\n",
       "  {'id': 1280,\n",
       "   'logo_path': None,\n",
       "   'name': 'Pacific Western',\n",
       "   'origin_country': 'US'},\n",
       "  {'id': 574,\n",
       "   'logo_path': '/nLNW1TeFUYU0M5U0qmYUzOIwlB6.png',\n",
       "   'name': 'Lightstorm Entertainment',\n",
       "   'origin_country': 'US'},\n",
       "  {'id': 183,\n",
       "   'logo_path': '/eadyph99FClrWlnE0jPniwOcvvw.png',\n",
       "   'name': 'Le Studio Canal+',\n",
       "   'origin_country': 'FR'}],\n",
       " 'production_countries': [{'iso_3166_1': 'FR', 'name': 'France'},\n",
       "  {'iso_3166_1': 'US', 'name': 'United States of America'}],\n",
       " 'release_date': '1991-07-03',\n",
       " 'revenue': 520000000,\n",
       " 'runtime': 137,\n",
       " 'spoken_languages': [{'english_name': 'English',\n",
       "   'iso_639_1': 'en',\n",
       "   'name': 'English'},\n",
       "  {'english_name': 'Spanish', 'iso_639_1': 'es', 'name': 'Español'}],\n",
       " 'status': 'Released',\n",
       " 'tagline': \"It's nothing personal.\",\n",
       " 'title': 'Terminator 2: Judgment Day',\n",
       " 'video': False,\n",
       " 'vote_average': 8.129,\n",
       " 'vote_count': 13407}"
      ]
     },
     "execution_count": 9,
     "metadata": {},
     "output_type": "execute_result"
    }
   ],
   "source": [
    "detail_response = tmdb_client.movie_detail(movie_id)\n",
    "detail_response"
   ]
  }
 ],
 "metadata": {
  "kernelspec": {
   "display_name": "venv",
   "language": "python",
   "name": "python3"
  },
  "language_info": {
   "codemirror_mode": {
    "name": "ipython",
    "version": 3
   },
   "file_extension": ".py",
   "mimetype": "text/x-python",
   "name": "python",
   "nbconvert_exporter": "python",
   "pygments_lexer": "ipython3",
   "version": "3.13.5"
  }
 },
 "nbformat": 4,
 "nbformat_minor": 5
}
