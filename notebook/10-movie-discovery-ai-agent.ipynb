{
 "cells": [
  {
   "cell_type": "code",
   "execution_count": 1,
   "id": "1c4ef7d1",
   "metadata": {},
   "outputs": [],
   "source": [
    "import setup  # notebooks/setup.py\n",
    "setup.init()"
   ]
  },
  {
   "cell_type": "code",
   "execution_count": 2,
   "id": "df79802e",
   "metadata": {},
   "outputs": [],
   "source": [
    "from ai.agents import get_movie_discovery_agent"
   ]
  },
  {
   "cell_type": "code",
   "execution_count": 3,
   "id": "c6058a3d",
   "metadata": {},
   "outputs": [],
   "source": [
    "from langgraph.checkpoint.memory import InMemorySaver \n",
    "\n",
    "checkpointer = InMemorySaver()"
   ]
  },
  {
   "cell_type": "code",
   "execution_count": 4,
   "id": "2ad32f47",
   "metadata": {},
   "outputs": [],
   "source": [
    "agent = get_movie_discovery_agent(model=\"gpt-4o\", checkpointer=checkpointer)"
   ]
  },
  {
   "cell_type": "code",
   "execution_count": 5,
   "id": "5d9017da",
   "metadata": {},
   "outputs": [
    {
     "name": "stdout",
     "output_type": "stream",
     "text": [
      "Searching with user 3\n"
     ]
    }
   ],
   "source": [
    "import uuid \n",
    "config = {\"configurable\": {\"user_id\": \"3\", \"thread_id\": uuid.uuid4()}}\n",
    "\n",
    "response = agent.invoke(\n",
    "    {\"messages\": \n",
    "        [\n",
    "            {\"role\": \"user\", \"content\": \"Tell me about the first Terminator movie\"}\n",
    "        ]\n",
    "    },\n",
    "    config\n",
    ")"
   ]
  },
  {
   "cell_type": "code",
   "execution_count": 6,
   "id": "b108a51c",
   "metadata": {},
   "outputs": [
    {
     "data": {
      "text/plain": [
       "ToolMessage(content='{\"adult\": false, \"backdrop_path\": \"/ffdqHMWkh1h9MABwIfbfRJhgFW6.jpg\", \"belongs_to_collection\": {\"id\": 528, \"name\": \"The Terminator Collection\", \"poster_path\": \"/kpZxdNsAV7qTdTLwKM5NLqa7GEo.jpg\", \"backdrop_path\": \"/sCnBEw2Yu6foEjs4Xb4eMddYHRo.jpg\"}, \"budget\": 6400000, \"genres\": [{\"id\": 28, \"name\": \"Action\"}, {\"id\": 53, \"name\": \"Thriller\"}, {\"id\": 878, \"name\": \"Science Fiction\"}], \"homepage\": \"https://www.20thcenturystudios.com/movies/theterminator\", \"id\": 218, \"imdb_id\": \"tt0088247\", \"origin_country\": [\"US\"], \"original_language\": \"en\", \"original_title\": \"The Terminator\", \"overview\": \"In the post-apocalyptic future, reigning tyrannical supercomputers teleport a cyborg assassin known as the \\\\\"Terminator\\\\\" back to 1984 to kill Sarah Connor, whose unborn son is destined to lead insurgents against 21st century mechanical hegemony. Meanwhile, the human-resistance movement dispatches a lone warrior to safeguard Sarah. Can he stop the virtually indestructible killing machine?\", \"popularity\": 13.307, \"poster_path\": \"/hzXSE66v6KthZ8nPoLZmsi2G05j.jpg\", \"production_companies\": [{\"id\": 3952, \"logo_path\": \"/hLfS5FjBQjK5MUNl7kdXgIHSSWy.png\", \"name\": \"Hemdale\", \"origin_country\": \"GB\"}, {\"id\": 1280, \"logo_path\": null, \"name\": \"Pacific Western\", \"origin_country\": \"US\"}], \"production_countries\": [{\"iso_3166_1\": \"GB\", \"name\": \"United Kingdom\"}, {\"iso_3166_1\": \"US\", \"name\": \"United States of America\"}], \"release_date\": \"1984-10-26\", \"revenue\": 78371200, \"runtime\": 108, \"spoken_languages\": [{\"english_name\": \"English\", \"iso_639_1\": \"en\", \"name\": \"English\"}, {\"english_name\": \"Spanish\", \"iso_639_1\": \"es\", \"name\": \"Español\"}], \"status\": \"Released\", \"tagline\": \"Your future is in its hands.\", \"title\": \"The Terminator\", \"video\": false, \"vote_average\": 7.669, \"vote_count\": 13703}', name='movie_detail', id='54c03532-8d8c-4ae3-84bb-e9eff5c5cae9', tool_call_id='call_676wJNps8jH2wcZrO0sywy2V')"
      ]
     },
     "execution_count": 6,
     "metadata": {},
     "output_type": "execute_result"
    }
   ],
   "source": [
    "response['messages'][-2]"
   ]
  }
 ],
 "metadata": {
  "kernelspec": {
   "display_name": "venv",
   "language": "python",
   "name": "python3"
  },
  "language_info": {
   "codemirror_mode": {
    "name": "ipython",
    "version": 3
   },
   "file_extension": ".py",
   "mimetype": "text/x-python",
   "name": "python",
   "nbconvert_exporter": "python",
   "pygments_lexer": "ipython3",
   "version": "3.13.5"
  }
 },
 "nbformat": 4,
 "nbformat_minor": 5
}
