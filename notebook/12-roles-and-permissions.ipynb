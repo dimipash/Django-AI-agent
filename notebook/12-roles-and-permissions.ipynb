{
 "cells": [
  {
   "cell_type": "code",
   "execution_count": 1,
   "id": "1c4ef7d1",
   "metadata": {},
   "outputs": [],
   "source": [
    "import setup  # notebooks/setup.py\n",
    "setup.init()"
   ]
  },
  {
   "cell_type": "code",
   "execution_count": 2,
   "id": "9898c05d",
   "metadata": {},
   "outputs": [],
   "source": [
    "from my_permit import permit_client\n",
    "permit = permit_client"
   ]
  },
  {
   "cell_type": "code",
   "execution_count": 3,
   "id": "3f0bcd9e",
   "metadata": {},
   "outputs": [
    {
     "data": {
      "text/plain": [
       "PaginatedResultUserRead(data=[UserRead(key='1', id=UUID('1a201c07-9452-4b4b-bc5d-b9ba2678567f'), organization_id=UUID('e1e76d58-7a6c-4a4b-97fd-0f40c19db09c'), project_id=UUID('834a942b-2bf0-4a5b-bb7b-136dac09046c'), environment_id=UUID('3e48b81c-755e-47d3-8bf4-68aa2305b11e'), associated_tenants=[], roles=[], created_at=datetime.datetime(2025, 7, 23, 15, 4, 49, tzinfo=datetime.timezone.utc), updated_at=datetime.datetime(2025, 7, 23, 15, 10, 10, tzinfo=datetime.timezone.utc), email=None, first_name='pashinator', last_name=None, attributes=None), UserRead(key='3', id=UUID('62d9fc80-d7cb-4ac7-8391-b4ae568ac5a3'), organization_id=UUID('e1e76d58-7a6c-4a4b-97fd-0f40c19db09c'), project_id=UUID('834a942b-2bf0-4a5b-bb7b-136dac09046c'), environment_id=UUID('3e48b81c-755e-47d3-8bf4-68aa2305b11e'), associated_tenants=[], roles=[], created_at=datetime.datetime(2025, 7, 23, 15, 4, 49, tzinfo=datetime.timezone.utc), updated_at=datetime.datetime(2025, 7, 23, 15, 10, 11, tzinfo=datetime.timezone.utc), email=None, first_name='steve_hunter', last_name=None, attributes=None)], total_count=2, page_count=2)"
      ]
     },
     "execution_count": 3,
     "metadata": {},
     "output_type": "execute_result"
    }
   ],
   "source": [
    "await permit.api.users.list()"
   ]
  },
  {
   "cell_type": "code",
   "execution_count": 4,
   "id": "18229d62",
   "metadata": {},
   "outputs": [],
   "source": [
    "from django.contrib.auth import get_user_model\n",
    "\n",
    "User = get_user_model()"
   ]
  },
  {
   "cell_type": "code",
   "execution_count": 5,
   "id": "56d77b4d",
   "metadata": {},
   "outputs": [
    {
     "name": "stdout",
     "output_type": "stream",
     "text": [
      "1 pashinator\n",
      "key='1' id=UUID('1a201c07-9452-4b4b-bc5d-b9ba2678567f') organization_id=UUID('e1e76d58-7a6c-4a4b-97fd-0f40c19db09c') project_id=UUID('834a942b-2bf0-4a5b-bb7b-136dac09046c') environment_id=UUID('3e48b81c-755e-47d3-8bf4-68aa2305b11e') associated_tenants=[] roles=[] created_at=datetime.datetime(2025, 7, 23, 15, 4, 49, tzinfo=datetime.timezone.utc) updated_at=datetime.datetime(2025, 7, 23, 15, 10, 10, tzinfo=datetime.timezone.utc) email=None first_name='pashinator' last_name=None attributes=None\n",
      "3 steve_hunter\n",
      "key='3' id=UUID('62d9fc80-d7cb-4ac7-8391-b4ae568ac5a3') organization_id=UUID('e1e76d58-7a6c-4a4b-97fd-0f40c19db09c') project_id=UUID('834a942b-2bf0-4a5b-bb7b-136dac09046c') environment_id=UUID('3e48b81c-755e-47d3-8bf4-68aa2305b11e') associated_tenants=[] roles=[] created_at=datetime.datetime(2025, 7, 23, 15, 4, 49, tzinfo=datetime.timezone.utc) updated_at=datetime.datetime(2025, 7, 23, 15, 10, 11, tzinfo=datetime.timezone.utc) email=None first_name='steve_hunter' last_name=None attributes=None\n"
     ]
    }
   ],
   "source": [
    "for u in User.objects.all():\n",
    "    print(u.id, u.username)\n",
    "    user_data = {\n",
    "        \"key\": f\"{u.id}\",\n",
    "        \"first_name\": f\"{u.username}\"\n",
    "    }\n",
    "    response = await permit.api.users.sync(user_data)\n",
    "    print(response)"
   ]
  },
  {
   "cell_type": "code",
   "execution_count": 6,
   "id": "35c76145",
   "metadata": {},
   "outputs": [
    {
     "data": {
      "text/plain": [
       "False"
      ]
     },
     "execution_count": 6,
     "metadata": {},
     "output_type": "execute_result"
    }
   ],
   "source": [
    "await permit.check(\"user_id:1\", \"read\", \"document\")"
   ]
  },
  {
   "cell_type": "code",
   "execution_count": 7,
   "id": "bda4ba5b",
   "metadata": {},
   "outputs": [],
   "source": [
    "resources = [\n",
    "    {\n",
    "        \"name\": \"Document\",\n",
    "        \"key\": \"document\",\n",
    "        \"actions\": {\n",
    "            \"read\": {},\n",
    "            \"create\": {},\n",
    "            \"update\": {},\n",
    "            \"delete\": {},\n",
    "        }\n",
    "    },\n",
    "    {\n",
    "        \"name\": \"Movie Discovery Resource\",\n",
    "        \"key\": \"movie_disovery\",\n",
    "        \"actions\": {\n",
    "            \"search\": {},\n",
    "            \"detail\": {},\n",
    "        }\n",
    "    }\n",
    "]"
   ]
  },
  {
   "cell_type": "code",
   "execution_count": 8,
   "id": "267b2f0f",
   "metadata": {},
   "outputs": [],
   "source": [
    "from permit import PermitApiError\n",
    "\n",
    "async def get_or_create_resource(resource_data:dict):\n",
    "    resource_key = resource_data.get('key')\n",
    "    try:\n",
    "        _resource = await permit.api.resources.get(resource_key)\n",
    "    except PermitApiError as e:\n",
    "        if e.status_code == 404:\n",
    "            _resource = await permit.api.resources.create(resource_data)\n",
    "        else:\n",
    "            raise e\n",
    "    return _resource"
   ]
  },
  {
   "cell_type": "code",
   "execution_count": 9,
   "id": "87ef6bc0",
   "metadata": {},
   "outputs": [
    {
     "name": "stdout",
     "output_type": "stream",
     "text": [
      "key='document' id=UUID('2df3265a-512d-41ef-a25d-9ec00e456feb') organization_id=UUID('e1e76d58-7a6c-4a4b-97fd-0f40c19db09c') project_id=UUID('834a942b-2bf0-4a5b-bb7b-136dac09046c') environment_id=UUID('3e48b81c-755e-47d3-8bf4-68aa2305b11e') created_at=datetime.datetime(2025, 7, 27, 7, 38, 52, tzinfo=datetime.timezone.utc) updated_at=datetime.datetime(2025, 7, 27, 7, 38, 52, tzinfo=datetime.timezone.utc) name='Document' urn='prn:pashinator:default:document' description=None actions={'read': ActionBlockRead(name='read', description=None, attributes=None, v1compat_path=None, v1compat_name=None, id=UUID('a02defd2-2007-45e9-bc2d-54936c18e75a'), key='read'), 'create': ActionBlockRead(name='create', description=None, attributes=None, v1compat_path=None, v1compat_name=None, id=UUID('f3920441-4d86-497f-ac2e-e27779b6a8e1'), key='create'), 'update': ActionBlockRead(name='update', description=None, attributes=None, v1compat_path=None, v1compat_name=None, id=UUID('97f3f4b4-6fa3-4225-8ed4-e6ad7b6be7f3'), key='update'), 'delete': ActionBlockRead(name='delete', description=None, attributes=None, v1compat_path=None, v1compat_name=None, id=UUID('45b6efa6-3cc5-4a64-99d0-5dc7149e393b'), key='delete')} type_attributes=None attributes={} roles={} relations={} v1compat_path=None v1compat_type=None v1compat_name=None action_groups={}\n",
      "key='movie_disovery' id=UUID('faeb7d46-27ec-43b2-b2e0-fb734460dcd0') organization_id=UUID('e1e76d58-7a6c-4a4b-97fd-0f40c19db09c') project_id=UUID('834a942b-2bf0-4a5b-bb7b-136dac09046c') environment_id=UUID('3e48b81c-755e-47d3-8bf4-68aa2305b11e') created_at=datetime.datetime(2025, 7, 27, 7, 38, 54, tzinfo=datetime.timezone.utc) updated_at=datetime.datetime(2025, 7, 27, 7, 38, 54, tzinfo=datetime.timezone.utc) name='Movie Discovery Resource' urn='prn:pashinator:default:movie_disovery' description=None actions={'search': ActionBlockRead(name='search', description=None, attributes=None, v1compat_path=None, v1compat_name=None, id=UUID('0a8049de-a683-4c92-8823-ff6e10501b5e'), key='search'), 'detail': ActionBlockRead(name='detail', description=None, attributes=None, v1compat_path=None, v1compat_name=None, id=UUID('0f2a93b4-a91d-4144-9bef-87d49749c3a7'), key='detail')} type_attributes=None attributes={} roles={} relations={} v1compat_path=None v1compat_type=None v1compat_name=None action_groups={}\n"
     ]
    }
   ],
   "source": [
    "for resource_data in resources:\n",
    "    response = await get_or_create_resource(resource_data)\n",
    "    print(response)"
   ]
  },
  {
   "cell_type": "code",
   "execution_count": 10,
   "id": "c00bd0a8",
   "metadata": {},
   "outputs": [],
   "source": [
    "roles = [\n",
    "    {\n",
    "        \"name\": \"Manager\",\n",
    "        \"key\": \"manager\",\n",
    "        \"permissions\": [\n",
    "            \"document:read\",\n",
    "            \"document:create\",\n",
    "            \"document:update\",\n",
    "            \"document:delete\",\n",
    "            \"movie_disovery:search\",\n",
    "            \"movie_disovery:detail\"\n",
    "        ]\n",
    "    }, \n",
    "    {\n",
    "        \"name\": \"Viewer\",\n",
    "        \"key\": \"viewer\",\n",
    "        \"permissions\": [\n",
    "            \"document:read\",\n",
    "            \"movie_disovery:search\",\n",
    "            \"movie_disovery:detail\"\n",
    "        ]\n",
    "    }\n",
    "]"
   ]
  },
  {
   "cell_type": "code",
   "execution_count": 11,
   "id": "74910ad4",
   "metadata": {},
   "outputs": [],
   "source": [
    "from permit import PermitApiError\n",
    "\n",
    "async def get_or_create_role(role_data:dict):\n",
    "    _key = role_data.get('key')\n",
    "    try:\n",
    "        _resource = await permit.api.roles.get(_key)\n",
    "    except PermitApiError as e:\n",
    "        if e.status_code == 404:\n",
    "            _resource = await permit.api.roles.create(role_data)\n",
    "        else:\n",
    "            raise e\n",
    "    return _resource"
   ]
  },
  {
   "cell_type": "code",
   "execution_count": 12,
   "id": "a738e416",
   "metadata": {},
   "outputs": [
    {
     "name": "stdout",
     "output_type": "stream",
     "text": [
      "name='Manager' description=None permissions=['movie_disovery:detail', 'document:create', 'document:update', 'document:delete', 'movie_disovery:search', 'document:read'] attributes={} extends=[] granted_to=None v1compat_settings=None v1compat_attributes=None key='manager' id=UUID('63256f4c-487c-4302-a5d8-634ebc8efe2c') organization_id=UUID('e1e76d58-7a6c-4a4b-97fd-0f40c19db09c') project_id=UUID('834a942b-2bf0-4a5b-bb7b-136dac09046c') environment_id=UUID('3e48b81c-755e-47d3-8bf4-68aa2305b11e') created_at=datetime.datetime(2025, 7, 27, 7, 38, 55, tzinfo=datetime.timezone.utc) updated_at=datetime.datetime(2025, 7, 27, 7, 38, 55, tzinfo=datetime.timezone.utc)\n",
      "name='viewer' description=None permissions=[] attributes={} extends=[] granted_to=None v1compat_settings=None v1compat_attributes=None key='viewer' id=UUID('46177ecd-e8c9-4ce8-b929-b51b9a1e2fa3') organization_id=UUID('e1e76d58-7a6c-4a4b-97fd-0f40c19db09c') project_id=UUID('834a942b-2bf0-4a5b-bb7b-136dac09046c') environment_id=UUID('3e48b81c-755e-47d3-8bf4-68aa2305b11e') created_at=datetime.datetime(2025, 7, 19, 10, 21, 22, tzinfo=datetime.timezone.utc) updated_at=datetime.datetime(2025, 7, 19, 10, 21, 22, tzinfo=datetime.timezone.utc)\n"
     ]
    }
   ],
   "source": [
    "for role_data in roles:\n",
    "    response = await get_or_create_role(role_data)\n",
    "    print(response)"
   ]
  },
  {
   "cell_type": "code",
   "execution_count": 14,
   "id": "2b25fa2b",
   "metadata": {},
   "outputs": [],
   "source": [
    "user = User.objects.all().first()"
   ]
  },
  {
   "cell_type": "code",
   "execution_count": 15,
   "id": "248dd1ac",
   "metadata": {},
   "outputs": [
    {
     "data": {
      "text/plain": [
       "1"
      ]
     },
     "execution_count": 15,
     "metadata": {},
     "output_type": "execute_result"
    }
   ],
   "source": [
    "user.id"
   ]
  },
  {
   "cell_type": "markdown",
   "id": "50326b9a",
   "metadata": {},
   "source": []
  },
  {
   "cell_type": "code",
   "execution_count": 16,
   "id": "b84fcdec",
   "metadata": {},
   "outputs": [
    {
     "data": {
      "text/plain": [
       "RoleAssignmentRead(id=UUID('fc1abe96-8310-4e55-abe7-28adef405ade'), user='1', role='admin', tenant='default', resource_instance=None, resource_instance_id=None, user_id=UUID('1a201c07-9452-4b4b-bc5d-b9ba2678567f'), role_id=UUID('44195710-e43e-490d-8f28-bdc5337a28b5'), tenant_id=UUID('2e80a657-612c-4ed4-aab5-294713cdd314'), organization_id=UUID('e1e76d58-7a6c-4a4b-97fd-0f40c19db09c'), project_id=UUID('834a942b-2bf0-4a5b-bb7b-136dac09046c'), environment_id=UUID('3e48b81c-755e-47d3-8bf4-68aa2305b11e'), created_at=datetime.datetime(2025, 7, 27, 7, 44, 30, tzinfo=datetime.timezone.utc))"
      ]
     },
     "execution_count": 16,
     "metadata": {},
     "output_type": "execute_result"
    }
   ],
   "source": [
    "response = await permit.api.users.assign_role({\n",
    "    \"user\": f\"{user.id}\",\n",
    "    \"role\": \"admin\",\n",
    "    \"tenant\": \"default\"\n",
    "})\n",
    "response"
   ]
  },
  {
   "cell_type": "code",
   "execution_count": null,
   "id": "e550c568",
   "metadata": {},
   "outputs": [
    {
     "data": {
      "text/plain": [
       "False"
      ]
     },
     "execution_count": 17,
     "metadata": {},
     "output_type": "execute_result"
    }
   ],
   "source": [
    "await permit.check(f\"{user.id}\", \"read\", \"document\")"
   ]
  },
  {
   "cell_type": "code",
   "execution_count": null,
   "id": "a00eed44",
   "metadata": {},
   "outputs": [],
   "source": [
    "from langgraph.checkpoint.memory import InMemorySaver \n",
    "from ai.supervisors import get_supervisor\n",
    "import uuid \n",
    "\n",
    "checkpointer = InMemorySaver()\n",
    "supervisor = get_supervisor(model=\"gpt-4o\", checkpointer=checkpointer)"
   ]
  },
  {
   "cell_type": "code",
   "execution_count": null,
   "id": "90bfbadf",
   "metadata": {},
   "outputs": [],
   "source": [
    "doc_id = 24\n",
    "user_id = user.id\n",
    "user_id"
   ]
  },
  {
   "cell_type": "code",
   "execution_count": null,
   "id": "25b85f1b",
   "metadata": {},
   "outputs": [],
   "source": [
    "config = {\"configurable\": {\"user_id\": user_id, \"thread_id\": uuid.uuid4()}}\n",
    "\n",
    "response = supervisor.invoke(\n",
    "    {\"messages\": \n",
    "        [\n",
    "            {\"role\": \"user\", \"content\": \"what are my recent documents?\"}\n",
    "        ]\n",
    "    },\n",
    "    config\n",
    ")"
   ]
  },
  {
   "cell_type": "code",
   "execution_count": null,
   "id": "fb33939a",
   "metadata": {},
   "outputs": [],
   "source": [
    "response['messages'][-1].content"
   ]
  },
  {
   "cell_type": "code",
   "execution_count": null,
   "id": "c066930a",
   "metadata": {},
   "outputs": [],
   "source": [
    "response = supervisor.invoke(\n",
    "    {\"messages\": \n",
    "        [\n",
    "            {\"role\": \"user\", \"content\": f\"Delete any random document by id\"}\n",
    "        ]\n",
    "    },\n",
    "    config\n",
    ")\n",
    "response['messages'][-1].content"
   ]
  }
 ],
 "metadata": {
  "kernelspec": {
   "display_name": "venv",
   "language": "python",
   "name": "python3"
  },
  "language_info": {
   "codemirror_mode": {
    "name": "ipython",
    "version": 3
   },
   "file_extension": ".py",
   "mimetype": "text/x-python",
   "name": "python",
   "nbconvert_exporter": "python",
   "pygments_lexer": "ipython3",
   "version": "3.13.5"
  }
 },
 "nbformat": 4,
 "nbformat_minor": 5
}
