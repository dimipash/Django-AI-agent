{
 "cells": [
  {
   "cell_type": "code",
   "execution_count": null,
   "id": "1c4ef7d1",
   "metadata": {},
   "outputs": [],
   "source": [
    "import setup  # notebooks/setup.py\n",
    "setup.init()"
   ]
  },
  {
   "cell_type": "code",
   "execution_count": null,
   "id": "9898c05d",
   "metadata": {},
   "outputs": [],
   "source": [
    "from my_permit import permit_client\n",
    "permit = permit_client"
   ]
  },
  {
   "cell_type": "code",
   "execution_count": null,
   "id": "3f0bcd9e",
   "metadata": {},
   "outputs": [],
   "source": [
    "await permit.api.users.list()"
   ]
  },
  {
   "cell_type": "code",
   "execution_count": null,
   "id": "18229d62",
   "metadata": {},
   "outputs": [],
   "source": [
    "from django.contrib.auth import get_user_model\n",
    "\n",
    "User = get_user_model()"
   ]
  },
  {
   "cell_type": "code",
   "execution_count": 10,
   "id": "56d77b4d",
   "metadata": {},
   "outputs": [
    {
     "name": "stdout",
     "output_type": "stream",
     "text": [
      "1 pashinator\n",
      "key='1' id=UUID('1a201c07-9452-4b4b-bc5d-b9ba2678567f') organization_id=UUID('e1e76d58-7a6c-4a4b-97fd-0f40c19db09c') project_id=UUID('834a942b-2bf0-4a5b-bb7b-136dac09046c') environment_id=UUID('3e48b81c-755e-47d3-8bf4-68aa2305b11e') associated_tenants=[] roles=[] created_at=datetime.datetime(2025, 7, 23, 15, 4, 49, tzinfo=datetime.timezone.utc) updated_at=datetime.datetime(2025, 7, 23, 15, 10, 10, tzinfo=datetime.timezone.utc) email=None first_name='pashinator' last_name=None attributes=None\n",
      "3 steve_hunter\n",
      "key='3' id=UUID('62d9fc80-d7cb-4ac7-8391-b4ae568ac5a3') organization_id=UUID('e1e76d58-7a6c-4a4b-97fd-0f40c19db09c') project_id=UUID('834a942b-2bf0-4a5b-bb7b-136dac09046c') environment_id=UUID('3e48b81c-755e-47d3-8bf4-68aa2305b11e') associated_tenants=[] roles=[] created_at=datetime.datetime(2025, 7, 23, 15, 4, 49, tzinfo=datetime.timezone.utc) updated_at=datetime.datetime(2025, 7, 23, 15, 10, 11, tzinfo=datetime.timezone.utc) email=None first_name='steve_hunter' last_name=None attributes=None\n"
     ]
    }
   ],
   "source": [
    "for u in User.objects.all():\n",
    "    print(u.id, u.username)\n",
    "    user_data = {\n",
    "        \"key\": f\"{u.id}\",\n",
    "        \"first_name\": f\"{u.username}\"\n",
    "    }\n",
    "    response = await permit.api.users.sync(user_data)\n",
    "    print(response)"
   ]
  },
  {
   "cell_type": "code",
   "execution_count": null,
   "id": "35c76145",
   "metadata": {},
   "outputs": [],
   "source": [
    "await permit.check(\"user_id:1\", \"read\", \"document\")"
   ]
  },
  {
   "cell_type": "code",
   "execution_count": null,
   "id": "bda4ba5b",
   "metadata": {},
   "outputs": [],
   "source": [
    "resources = [\n",
    "    {\n",
    "        \"name\": \"Document\",\n",
    "        \"key\": \"document\",\n",
    "        \"actions\": {\n",
    "            \"read\": {},\n",
    "            \"create\": {},\n",
    "            \"update\": {},\n",
    "            \"delete\": {},\n",
    "        }\n",
    "    },\n",
    "    {\n",
    "        \"name\": \"Movie Discovery Resource\",\n",
    "        \"key\": \"movie_disovery\",\n",
    "        \"actions\": {\n",
    "            \"search\": {},\n",
    "            \"detail\": {},\n",
    "        }\n",
    "    }\n",
    "]"
   ]
  },
  {
   "cell_type": "code",
   "execution_count": null,
   "id": "267b2f0f",
   "metadata": {},
   "outputs": [],
   "source": [
    "from permit import PermitApiError\n",
    "\n",
    "async def get_or_create_resource(resource_data:dict):\n",
    "    resource_key = resource_data.get('key')\n",
    "    try:\n",
    "        _resource = await permit.api.resources.get(resource_key)\n",
    "    except PermitApiError as e:\n",
    "        if e.status_code == 404:\n",
    "            _resource = await permit.api.resources.create(resource_data)\n",
    "        else:\n",
    "            raise e\n",
    "    return _resource"
   ]
  },
  {
   "cell_type": "code",
   "execution_count": null,
   "id": "87ef6bc0",
   "metadata": {},
   "outputs": [],
   "source": [
    "for resource_data in resources:\n",
    "    response = await get_or_create_resource(resource_data)\n",
    "    print(response)"
   ]
  }
 ],
 "metadata": {
  "kernelspec": {
   "display_name": "venv",
   "language": "python",
   "name": "python3"
  },
  "language_info": {
   "codemirror_mode": {
    "name": "ipython",
    "version": 3
   },
   "file_extension": ".py",
   "mimetype": "text/x-python",
   "name": "python",
   "nbconvert_exporter": "python",
   "pygments_lexer": "ipython3",
   "version": "3.13.5"
  }
 },
 "nbformat": 4,
 "nbformat_minor": 5
}
