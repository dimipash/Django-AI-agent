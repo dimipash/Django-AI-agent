{
 "cells": [
  {
   "cell_type": "code",
   "execution_count": null,
   "id": "e6dbaa58",
   "metadata": {},
   "outputs": [],
   "source": [
    "import setup  # notebooks/setup.py\n",
    "setup.init()"
   ]
  },
  {
   "cell_type": "code",
   "execution_count": null,
   "id": "e4297f4b",
   "metadata": {},
   "outputs": [],
   "source": [
    "from mypermit import permit_client\n",
    "\n",
    "permit = permit_client"
   ]
  },
  {
   "cell_type": "code",
   "execution_count": null,
   "id": "39b2a3e0",
   "metadata": {},
   "outputs": [],
   "source": [
    "from django.contrib.auth import get_user_model\n",
    "from documents.models import Document\n",
    "\n",
    "\n",
    "User = get_user_model()\n",
    "\n",
    "admin_users = User.objects.filter(is_superuser=True)\n",
    "documents = Document.objects.all()"
   ]
  },
  {
   "cell_type": "code",
   "execution_count": null,
   "id": "ccfe7e21",
   "metadata": {},
   "outputs": [],
   "source": [
    "from permit import PermitApiError\n",
    "\n",
    "async def get_or_create_resource_instance(django_instance, resource_key=\"document\"):\n",
    "    _key = f\"{resource_key}:{django_instance.id}\"\n",
    "    try:\n",
    "        _resource = await permit.api.resource_instances.get(_key)\n",
    "    except PermitApiError as e:\n",
    "        if e.status_code == 404:\n",
    "            payload = {\n",
    "                \"key\": f\"{django_instance.id}\",\n",
    "                \"resource\": resource_key,\n",
    "                \"tenant\": \"default\",\n",
    "                \n",
    "            }\n",
    "            _resource = await permit.api.resource_instances.create(payload)\n",
    "        else:\n",
    "            raise e\n",
    "    return _resource"
   ]
  },
  {
   "cell_type": "code",
   "execution_count": null,
   "id": "b4f9d25a",
   "metadata": {},
   "outputs": [],
   "source": [
    "async def assign_user_ownership(django_user, django_instance, resource_key=\"document\"):\n",
    "    _key = f\"{resource_key}:{django_instance.id}\"\n",
    "    return await permit.api.users.assign_role({\n",
    "        \"user\": f\"{django_user.id}\",\n",
    "        \"role\": \"admin\",\n",
    "        \"resource_instance\": _key,\n",
    "        \"tenant\": \"default\",\n",
    "    })"
   ]
  },
  {
   "cell_type": "code",
   "execution_count": null,
   "id": "9539127e",
   "metadata": {},
   "outputs": [],
   "source": [
    "for obj in documents:\n",
    "    response = await get_or_create_resource_instance(obj, resource_key=\"document\")\n",
    "    role = await assign_user_ownership(obj.owner, obj, resource_key=\"document\")\n",
    "    print(response)"
   ]
  },
  {
   "cell_type": "code",
   "execution_count": null,
   "id": "79c3f11a",
   "metadata": {},
   "outputs": [],
   "source": [
    "for admin_u in admin_users:\n",
    "    for obj in documents:\n",
    "        response = await get_or_create_resource_instance(obj, resource_key=\"document\")\n",
    "        role = await assign_user_ownership(admin_u, obj, resource_key=\"document\")\n",
    "        print(response)"
   ]
  },
  {
   "cell_type": "code",
   "execution_count": null,
   "id": "85590060",
   "metadata": {},
   "outputs": [],
   "source": [
    "random_user = User.objects.all().order_by(\"?\")[0]\n",
    "random_doc = Document.objects.all().order_by(\"?\")[0]\n",
    "\n",
    "await permit.check(f\"{random_user.id}\", \"update\", f\"document:{random_doc.id}\")"
   ]
  }
 ],
 "metadata": {
  "language_info": {
   "name": "python"
  }
 },
 "nbformat": 4,
 "nbformat_minor": 5
}
