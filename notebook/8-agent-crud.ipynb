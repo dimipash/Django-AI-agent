{
 "cells": [
  {
   "cell_type": "code",
   "execution_count": 1,
   "id": "1172caf7",
   "metadata": {},
   "outputs": [],
   "source": [
    "import setup  # notebooks/setup.py\n",
    "setup.init()"
   ]
  },
  {
   "cell_type": "code",
   "execution_count": 2,
   "id": "9cbfb31f",
   "metadata": {},
   "outputs": [],
   "source": [
    "from langgraph.checkpoint.memory import InMemorySaver \n",
    "from ai.agents import get_document_agent"
   ]
  },
  {
   "cell_type": "code",
   "execution_count": 3,
   "id": "61e9401d",
   "metadata": {},
   "outputs": [],
   "source": [
    "import uuid \n",
    "config = {\"configurable\": {\"user_id\": \"3\", \"thread_id\": uuid.uuid4()}}\n",
    "checkpointer = InMemorySaver()\n",
    "agent = get_document_agent(model=\"gpt-4o\", checkpointer=checkpointer)"
   ]
  },
  {
   "cell_type": "code",
   "execution_count": 7,
   "id": "f4ac90cc",
   "metadata": {},
   "outputs": [
    {
     "data": {
      "text/plain": [
       "'\"Terminator 3: Rise of the Machines\" is a 2003 science fiction action film directed by Jonathan Mostow. It is the third installment in the Terminator franchise, following \"Terminator 2: Judgment Day.\" The film stars Arnold Schwarzenegger, Nick Stahl, Claire Danes, and Kristanna Loken.\\n\\nThe story is set several years after the events of \"Terminator 2.\" John Connor (played by Nick Stahl) is living off the grid to avoid detection by Skynet, the artificial intelligence that will eventually trigger a nuclear apocalypse. Despite their efforts to prevent Judgment Day, the future war between humans and machines is still on the horizon.\\n\\nSkynet sends a new, advanced Terminator model, the T-X (played by Kristanna Loken), back in time to eliminate key members of the human resistance, including John Connor and his future wife, Kate Brewster (played by Claire Danes). The T-X is a highly advanced killing machine with the ability to control other machines.\\n\\nTo protect John and Kate, the resistance sends back a reprogrammed T-850 Terminator (played by Arnold Schwarzenegger). The T-850\\'s mission is to ensure their survival and help them stop Skynet from going online.\\n\\nAs the T-X relentlessly pursues them, John, Kate, and the T-850 race against time to prevent Skynet from launching its attack. The film explores themes of destiny, inevitability, and the struggle to change the future.\\n\\n\"Terminator 3: Rise of the Machines\" features intense action sequences and special effects, continuing the franchise\\'s legacy of thrilling sci-fi action. While it received mixed reviews compared to its predecessors, it was a commercial success and expanded the Terminator storyline.'"
      ]
     },
     "execution_count": 7,
     "metadata": {},
     "output_type": "execute_result"
    }
   ],
   "source": [
    "response = agent.invoke(\n",
    "    {\"messages\": \n",
    "        [\n",
    "            {\"role\": \"user\", \"content\": \"Give me a summary of the movie Terminator 3\"}\n",
    "        ]\n",
    "    },\n",
    "    config\n",
    ")\n",
    "\n",
    "response['messages'][-1].content"
   ]
  },
  {
   "cell_type": "code",
   "execution_count": 8,
   "id": "c8a4cb93",
   "metadata": {},
   "outputs": [
    {
     "data": {
      "text/plain": [
       "'The summary of \"Terminator 3: Rise of the Machines\" has been saved to your documents.'"
      ]
     },
     "execution_count": 8,
     "metadata": {},
     "output_type": "execute_result"
    }
   ],
   "source": [
    "response = agent.invoke(\n",
    "    {\"messages\": \n",
    "        [\n",
    "            {\"role\": \"user\", \"content\": \"Save it to my documents.\"}\n",
    "        ]\n",
    "    },\n",
    "    config\n",
    ")\n",
    "\n",
    "response['messages'][-1].content"
   ]
  },
  {
   "cell_type": "code",
   "execution_count": 9,
   "id": "55d0303a",
   "metadata": {},
   "outputs": [
    {
     "data": {
      "text/plain": [
       "'Here are your recent documents:\\n\\n1. **Summary of Terminator 3: Rise of the Machines**\\n2. **Summary of Terminator 2: Judgment Day**\\n3. **Title**\\n4. **Hello World**'"
      ]
     },
     "execution_count": 9,
     "metadata": {},
     "output_type": "execute_result"
    }
   ],
   "source": [
    "response = agent.invoke(\n",
    "    {\"messages\": \n",
    "        [\n",
    "            {\"role\": \"user\", \"content\": \"List my recent documents.\"}\n",
    "        ]\n",
    "    },\n",
    "    config\n",
    ")\n",
    "\n",
    "response['messages'][-1].content"
   ]
  },
  {
   "cell_type": "code",
   "execution_count": null,
   "id": "50ea48aa",
   "metadata": {},
   "outputs": [],
   "source": [
    "response = agent.invoke(\n",
    "    {\"messages\": \n",
    "        [\n",
    "            {\"role\": \"user\", \"content\": \"Great. Now save it to my documents.\"}\n",
    "        ]\n",
    "    },\n",
    "    config\n",
    ")\n",
    "\n",
    "response['messages'][-1].content"
   ]
  },
  {
   "cell_type": "code",
   "execution_count": null,
   "id": "fdb4fb14",
   "metadata": {},
   "outputs": [],
   "source": [
    "response = agent.invoke(\n",
    "    {\"messages\": \n",
    "        [\n",
    "            {\"role\": \"user\", \"content\": \"What are my recent documents?\"}\n",
    "        ]\n",
    "    },\n",
    "    config\n",
    ")\n",
    "\n",
    "response['messages'][-1].content"
   ]
  },
  {
   "cell_type": "code",
   "execution_count": null,
   "id": "4acbf74f",
   "metadata": {},
   "outputs": [],
   "source": [
    "response = agent.invoke(\n",
    "    {\"messages\": \n",
    "        [\n",
    "            {\"role\": \"user\", \"content\": \"Terminator 2 summary.\"}\n",
    "        ]\n",
    "    },\n",
    "    config\n",
    ")\n",
    "\n",
    "response['messages'][-1].content"
   ]
  }
 ],
 "metadata": {
  "kernelspec": {
   "display_name": "venv",
   "language": "python",
   "name": "python3"
  },
  "language_info": {
   "codemirror_mode": {
    "name": "ipython",
    "version": 3
   },
   "file_extension": ".py",
   "mimetype": "text/x-python",
   "name": "python",
   "nbconvert_exporter": "python",
   "pygments_lexer": "ipython3",
   "version": "3.13.5"
  }
 },
 "nbformat": 4,
 "nbformat_minor": 5
}
